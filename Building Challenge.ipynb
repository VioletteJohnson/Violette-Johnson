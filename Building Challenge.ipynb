{
  "nbformat": 4,
  "nbformat_minor": 0,
  "metadata": {
    "colab": {
      "name": "Untitled1.ipynb",
      "provenance": [],
      "collapsed_sections": []
    },
    "kernelspec": {
      "name": "python3",
      "display_name": "Python 3"
    }
  },
  "cells": [
    {
      "cell_type": "code",
      "metadata": {
        "id": "CzdFzBUg-pnZ",
        "colab_type": "code",
        "colab": {}
      },
      "source": [
        "import pandas as pd\n",
        "import numpy as np\n",
        "import seaborn as sns\n",
        "sns.set()\n",
        "import matplotlib.pyplot as plt\n",
        "%matplotlib inline\n",
        "import warnings\n",
        "warnings.filterwarnings('ignore')"
      ],
      "execution_count": 0,
      "outputs": []
    },
    {
      "cell_type": "code",
      "metadata": {
        "id": "t6n0yXI1b3ug",
        "colab_type": "code",
        "colab": {}
      },
      "source": [
        "from IPython.core.interactiveshell import InteractiveShell\n",
        "InteractiveShell.ast_node_interactivity = 'all'"
      ],
      "execution_count": 0,
      "outputs": []
    },
    {
      "cell_type": "code",
      "metadata": {
        "id": "G9LmvPDD8kBK",
        "colab_type": "code",
        "colab": {}
      },
      "source": [
        "train = pd.read_csv('train_data.csv')\n",
        "test = pd.read_csv('test_data.csv')\n",
        "sub = pd.read_csv('sample_submission.csv')"
      ],
      "execution_count": 0,
      "outputs": []
    },
    {
      "cell_type": "code",
      "metadata": {
        "id": "Q7ufJhRVOas_",
        "colab_type": "code",
        "colab": {}
      },
      "source": [
        "# Data Exploration"
      ],
      "execution_count": 0,
      "outputs": []
    },
    {
      "cell_type": "code",
      "metadata": {
        "id": "hFjgySBNOQr4",
        "colab_type": "code",
        "outputId": "09fa0d96-aeb8-4df0-b845-a7a745668936",
        "colab": {
          "base_uri": "https://localhost:8080/",
          "height": 234
        }
      },
      "source": [
        "train.head()"
      ],
      "execution_count": 1980,
      "outputs": [
        {
          "output_type": "execute_result",
          "data": {
            "text/html": [
              "<div>\n",
              "<style scoped>\n",
              "    .dataframe tbody tr th:only-of-type {\n",
              "        vertical-align: middle;\n",
              "    }\n",
              "\n",
              "    .dataframe tbody tr th {\n",
              "        vertical-align: top;\n",
              "    }\n",
              "\n",
              "    .dataframe thead th {\n",
              "        text-align: right;\n",
              "    }\n",
              "</style>\n",
              "<table border=\"1\" class=\"dataframe\">\n",
              "  <thead>\n",
              "    <tr style=\"text-align: right;\">\n",
              "      <th></th>\n",
              "      <th>Customer Id</th>\n",
              "      <th>YearOfObservation</th>\n",
              "      <th>Insured_Period</th>\n",
              "      <th>Residential</th>\n",
              "      <th>Building_Painted</th>\n",
              "      <th>Building_Fenced</th>\n",
              "      <th>Garden</th>\n",
              "      <th>Settlement</th>\n",
              "      <th>Building Dimension</th>\n",
              "      <th>Building_Type</th>\n",
              "      <th>Date_of_Occupancy</th>\n",
              "      <th>NumberOfWindows</th>\n",
              "      <th>Geo_Code</th>\n",
              "      <th>Claim</th>\n",
              "    </tr>\n",
              "  </thead>\n",
              "  <tbody>\n",
              "    <tr>\n",
              "      <th>0</th>\n",
              "      <td>H14663</td>\n",
              "      <td>2013</td>\n",
              "      <td>1.0</td>\n",
              "      <td>0</td>\n",
              "      <td>N</td>\n",
              "      <td>V</td>\n",
              "      <td>V</td>\n",
              "      <td>U</td>\n",
              "      <td>290.0</td>\n",
              "      <td>1</td>\n",
              "      <td>1960.0</td>\n",
              "      <td>.</td>\n",
              "      <td>1053</td>\n",
              "      <td>0</td>\n",
              "    </tr>\n",
              "    <tr>\n",
              "      <th>1</th>\n",
              "      <td>H2037</td>\n",
              "      <td>2015</td>\n",
              "      <td>1.0</td>\n",
              "      <td>0</td>\n",
              "      <td>V</td>\n",
              "      <td>N</td>\n",
              "      <td>O</td>\n",
              "      <td>R</td>\n",
              "      <td>490.0</td>\n",
              "      <td>1</td>\n",
              "      <td>1850.0</td>\n",
              "      <td>4</td>\n",
              "      <td>1053</td>\n",
              "      <td>0</td>\n",
              "    </tr>\n",
              "    <tr>\n",
              "      <th>2</th>\n",
              "      <td>H3802</td>\n",
              "      <td>2014</td>\n",
              "      <td>1.0</td>\n",
              "      <td>0</td>\n",
              "      <td>N</td>\n",
              "      <td>V</td>\n",
              "      <td>V</td>\n",
              "      <td>U</td>\n",
              "      <td>595.0</td>\n",
              "      <td>1</td>\n",
              "      <td>1960.0</td>\n",
              "      <td>.</td>\n",
              "      <td>1053</td>\n",
              "      <td>0</td>\n",
              "    </tr>\n",
              "    <tr>\n",
              "      <th>3</th>\n",
              "      <td>H3834</td>\n",
              "      <td>2013</td>\n",
              "      <td>1.0</td>\n",
              "      <td>0</td>\n",
              "      <td>V</td>\n",
              "      <td>V</td>\n",
              "      <td>V</td>\n",
              "      <td>U</td>\n",
              "      <td>2840.0</td>\n",
              "      <td>1</td>\n",
              "      <td>1960.0</td>\n",
              "      <td>.</td>\n",
              "      <td>1053</td>\n",
              "      <td>0</td>\n",
              "    </tr>\n",
              "    <tr>\n",
              "      <th>4</th>\n",
              "      <td>H5053</td>\n",
              "      <td>2014</td>\n",
              "      <td>1.0</td>\n",
              "      <td>0</td>\n",
              "      <td>V</td>\n",
              "      <td>N</td>\n",
              "      <td>O</td>\n",
              "      <td>R</td>\n",
              "      <td>680.0</td>\n",
              "      <td>1</td>\n",
              "      <td>1800.0</td>\n",
              "      <td>3</td>\n",
              "      <td>1053</td>\n",
              "      <td>0</td>\n",
              "    </tr>\n",
              "  </tbody>\n",
              "</table>\n",
              "</div>"
            ],
            "text/plain": [
              "  Customer Id  YearOfObservation  ...  Geo_Code  Claim\n",
              "0      H14663               2013  ...      1053      0\n",
              "1       H2037               2015  ...      1053      0\n",
              "2       H3802               2014  ...      1053      0\n",
              "3       H3834               2013  ...      1053      0\n",
              "4       H5053               2014  ...      1053      0\n",
              "\n",
              "[5 rows x 14 columns]"
            ]
          },
          "metadata": {
            "tags": []
          },
          "execution_count": 1980
        }
      ]
    },
    {
      "cell_type": "code",
      "metadata": {
        "id": "cjOiVrtCMmNz",
        "colab_type": "code",
        "outputId": "244ec164-4bf3-4e72-e725-87aea2751c8b",
        "colab": {
          "base_uri": "https://localhost:8080/",
          "height": 283
        }
      },
      "source": [
        "train.dtypes"
      ],
      "execution_count": 1981,
      "outputs": [
        {
          "output_type": "execute_result",
          "data": {
            "text/plain": [
              "Customer Id            object\n",
              "YearOfObservation       int64\n",
              "Insured_Period        float64\n",
              "Residential             int64\n",
              "Building_Painted       object\n",
              "Building_Fenced        object\n",
              "Garden                 object\n",
              "Settlement             object\n",
              "Building Dimension    float64\n",
              "Building_Type           int64\n",
              "Date_of_Occupancy     float64\n",
              "NumberOfWindows        object\n",
              "Geo_Code               object\n",
              "Claim                   int64\n",
              "dtype: object"
            ]
          },
          "metadata": {
            "tags": []
          },
          "execution_count": 1981
        }
      ]
    },
    {
      "cell_type": "code",
      "metadata": {
        "id": "Op85uLmFIx3G",
        "colab_type": "code",
        "outputId": "3b366309-99c5-4fc0-caa6-657145bede2d",
        "colab": {
          "base_uri": "https://localhost:8080/",
          "height": 34
        }
      },
      "source": [
        "train['Building Dimension'].nunique()"
      ],
      "execution_count": 1982,
      "outputs": [
        {
          "output_type": "execute_result",
          "data": {
            "text/plain": [
              "2043"
            ]
          },
          "metadata": {
            "tags": []
          },
          "execution_count": 1982
        }
      ]
    },
    {
      "cell_type": "code",
      "metadata": {
        "id": "VRzUME_n6ybh",
        "colab_type": "code",
        "outputId": "19af455c-8db5-41ae-b49a-aa08bd1596e4",
        "colab": {
          "base_uri": "https://localhost:8080/",
          "height": 176
        }
      },
      "source": [
        "train['YearOfObservation'].describe()"
      ],
      "execution_count": 1983,
      "outputs": [
        {
          "output_type": "execute_result",
          "data": {
            "text/plain": [
              "count    7160.000000\n",
              "mean     2013.669553\n",
              "std         1.383769\n",
              "min      2012.000000\n",
              "25%      2012.000000\n",
              "50%      2013.000000\n",
              "75%      2015.000000\n",
              "max      2016.000000\n",
              "Name: YearOfObservation, dtype: float64"
            ]
          },
          "metadata": {
            "tags": []
          },
          "execution_count": 1983
        }
      ]
    },
    {
      "cell_type": "code",
      "metadata": {
        "id": "Rn2sjvrW_PL4",
        "colab_type": "code",
        "outputId": "ec67832e-0a97-406e-fd88-d5e96498dc11",
        "colab": {
          "base_uri": "https://localhost:8080/",
          "height": 230
        }
      },
      "source": [
        "train['Insured_Period'].value_counts()"
      ],
      "execution_count": 1984,
      "outputs": [
        {
          "output_type": "execute_result",
          "data": {
            "text/plain": [
              "1.000000    5325\n",
              "0.997268     547\n",
              "0.000000     165\n",
              "0.747945      60\n",
              "0.495890      49\n",
              "            ... \n",
              "0.680328       1\n",
              "0.819672       1\n",
              "0.792350       1\n",
              "0.378082       1\n",
              "0.803279       1\n",
              "Name: Insured_Period, Length: 401, dtype: int64"
            ]
          },
          "metadata": {
            "tags": []
          },
          "execution_count": 1984
        }
      ]
    },
    {
      "cell_type": "code",
      "metadata": {
        "id": "se7RZXPwWuBp",
        "colab_type": "code",
        "colab": {}
      },
      "source": [
        "to_drop=train[train['Building Dimension'] <30]"
      ],
      "execution_count": 0,
      "outputs": []
    },
    {
      "cell_type": "code",
      "metadata": {
        "id": "LFh2tpRvWuTh",
        "colab_type": "code",
        "colab": {}
      },
      "source": [
        "train.drop(train.loc[train['Building Dimension']<30].index, inplace=True)"
      ],
      "execution_count": 0,
      "outputs": []
    },
    {
      "cell_type": "code",
      "metadata": {
        "id": "eOpZftGCDmU2",
        "colab_type": "code",
        "colab": {}
      },
      "source": [
        "categorical = {'N': 1, 'V':0}\n",
        "test.replace({\"Building_Fenced\": categorical},inplace=True)\n",
        "categorical2 = {'N': 1, 'V':0}\n",
        "test.replace({\"Building_Painted\": categorical2},inplace=True)\n",
        "categorical3 = {'R': 1, 'U':0}\n",
        "test.replace({\"Settlement\": categorical3},inplace=True)\n",
        "categorical4 = {'   .': 10, '4': 9, '5': 8, '3': 7, '6': 6, '7': 5, '8': 4, '9': 3, '2': 2, '>=10':1, '1': 0}\n",
        "test.replace({\"NumberOfWindows\": categorical4},inplace=True)"
      ],
      "execution_count": 0,
      "outputs": []
    },
    {
      "cell_type": "code",
      "metadata": {
        "id": "nKF2-PbQQ2Yz",
        "colab_type": "code",
        "colab": {}
      },
      "source": [
        "categorical = {'N': 1, 'V':0}\n",
        "train.replace({\"Building_Fenced\": categorical},inplace=True)\n",
        "categorical2 = {'N': 1, 'V':0}\n",
        "train.replace({\"Building_Painted\": categorical2},inplace=True)\n",
        "categorical3 = {'R': 1, 'U':0}\n",
        "train.replace({\"Settlement\": categorical3},inplace=True)\n",
        "categorical4 = {'   .': 10, '4': 9, '5': 8, '3': 7, '6': 6, '7': 5, '8': 4, '9': 3, '2': 2, '>=10':1, '1': 0}\n",
        "train.replace({\"NumberOfWindows\": categorical4},inplace=True)"
      ],
      "execution_count": 0,
      "outputs": []
    },
    {
      "cell_type": "code",
      "metadata": {
        "id": "8FLUr5agPZ17",
        "colab_type": "code",
        "outputId": "1b93129e-b64b-4ba7-d60e-4c0436c15967",
        "colab": {
          "base_uri": "https://localhost:8080/",
          "height": 34
        }
      },
      "source": [
        "train['Building_Fenced'].unique()"
      ],
      "execution_count": 1989,
      "outputs": [
        {
          "output_type": "execute_result",
          "data": {
            "text/plain": [
              "array([0, 1])"
            ]
          },
          "metadata": {
            "tags": []
          },
          "execution_count": 1989
        }
      ]
    },
    {
      "cell_type": "code",
      "metadata": {
        "id": "DXDN9aFrATZ_",
        "colab_type": "code",
        "colab": {}
      },
      "source": [
        "def insured_class(x):\n",
        "  if x > 0.748 and x <= 1:\n",
        "    return 'a year'\n",
        "  elif x > 0.502 and x <=0.748:\n",
        "    return '3rd quarter'\n",
        "  elif x > 0.25 and x <= 0.50:\n",
        "    return 'half_year'\n",
        "  else:\n",
        "    return '1st quarter'\n",
        "train['duration'] =train['Insured_Period'].apply(insured_class)"
      ],
      "execution_count": 0,
      "outputs": []
    },
    {
      "cell_type": "code",
      "metadata": {
        "id": "IWd79xCzCQg8",
        "colab_type": "code",
        "colab": {}
      },
      "source": [
        "def insured_classt(x):\n",
        "  if x > 0.748 and x <= 1:\n",
        "    return 'a year'\n",
        "  elif x > 0.502 and x <=0.748:\n",
        "    return '3rd quarter'\n",
        "  elif x > 0.25 and x <= 0.50:\n",
        "    return 'half_year'\n",
        "  else:\n",
        "    return '1st quarter'\n",
        "test['duration'] =test['Insured_Period'].apply(insured_classt)"
      ],
      "execution_count": 0,
      "outputs": []
    },
    {
      "cell_type": "code",
      "metadata": {
        "id": "wPQ_BQPs0220",
        "colab_type": "code",
        "colab": {}
      },
      "source": [
        "testid= test['Customer Id']"
      ],
      "execution_count": 0,
      "outputs": []
    },
    {
      "cell_type": "code",
      "metadata": {
        "id": "dvIaCj7BOWZj",
        "colab_type": "code",
        "outputId": "d4819b79-5574-46de-c062-cf96bbeb7378",
        "colab": {
          "base_uri": "https://localhost:8080/",
          "height": 70
        }
      },
      "source": [
        "print(train.shape), print(test.shape)"
      ],
      "execution_count": 1993,
      "outputs": [
        {
          "output_type": "stream",
          "text": [
            "(7137, 15)\n",
            "(3069, 14)\n"
          ],
          "name": "stdout"
        },
        {
          "output_type": "execute_result",
          "data": {
            "text/plain": [
              "(None, None)"
            ]
          },
          "metadata": {
            "tags": []
          },
          "execution_count": 1993
        }
      ]
    },
    {
      "cell_type": "code",
      "metadata": {
        "id": "bSVhcES_OsdE",
        "colab_type": "code",
        "outputId": "09b06398-794d-44e9-f785-8f2f1e628bf4",
        "colab": {
          "base_uri": "https://localhost:8080/",
          "height": 372
        }
      },
      "source": [
        "train.info()"
      ],
      "execution_count": 1994,
      "outputs": [
        {
          "output_type": "stream",
          "text": [
            "<class 'pandas.core.frame.DataFrame'>\n",
            "Int64Index: 7137 entries, 0 to 7159\n",
            "Data columns (total 15 columns):\n",
            "Customer Id           7137 non-null object\n",
            "YearOfObservation     7137 non-null int64\n",
            "Insured_Period        7137 non-null float64\n",
            "Residential           7137 non-null int64\n",
            "Building_Painted      7137 non-null int64\n",
            "Building_Fenced       7137 non-null int64\n",
            "Garden                7130 non-null object\n",
            "Settlement            7137 non-null int64\n",
            "Building Dimension    7031 non-null float64\n",
            "Building_Type         7137 non-null int64\n",
            "Date_of_Occupancy     6634 non-null float64\n",
            "NumberOfWindows       7137 non-null int64\n",
            "Geo_Code              7035 non-null object\n",
            "Claim                 7137 non-null int64\n",
            "duration              7137 non-null object\n",
            "dtypes: float64(3), int64(8), object(4)\n",
            "memory usage: 892.1+ KB\n"
          ],
          "name": "stdout"
        }
      ]
    },
    {
      "cell_type": "code",
      "metadata": {
        "id": "U3GhOFf2Ou5r",
        "colab_type": "code",
        "outputId": "d60c4a46-e2d8-4de5-b813-8454bfbb1853",
        "colab": {
          "base_uri": "https://localhost:8080/",
          "height": 70
        }
      },
      "source": [
        "train['Settlement'].value_counts()"
      ],
      "execution_count": 1995,
      "outputs": [
        {
          "output_type": "execute_result",
          "data": {
            "text/plain": [
              "1    3610\n",
              "0    3527\n",
              "Name: Settlement, dtype: int64"
            ]
          },
          "metadata": {
            "tags": []
          },
          "execution_count": 1995
        }
      ]
    },
    {
      "cell_type": "code",
      "metadata": {
        "id": "duGo3pksSvKJ",
        "colab_type": "code",
        "outputId": "f626e9fd-1004-4af8-e343-259283f4d255",
        "colab": {
          "base_uri": "https://localhost:8080/",
          "height": 70
        }
      },
      "source": [
        "train['Garden'].value_counts(normalize=True)"
      ],
      "execution_count": 1996,
      "outputs": [
        {
          "output_type": "execute_result",
          "data": {
            "text/plain": [
              "O    0.505189\n",
              "V    0.494811\n",
              "Name: Garden, dtype: float64"
            ]
          },
          "metadata": {
            "tags": []
          },
          "execution_count": 1996
        }
      ]
    },
    {
      "cell_type": "code",
      "metadata": {
        "id": "hmvDUg2rS1Ac",
        "colab_type": "code",
        "outputId": "38bafacb-4a3e-4396-8018-38ae61cf4006",
        "colab": {
          "base_uri": "https://localhost:8080/",
          "height": 283
        }
      },
      "source": [
        "for i in train.columns:\n",
        "  print (i)"
      ],
      "execution_count": 1997,
      "outputs": [
        {
          "output_type": "stream",
          "text": [
            "Customer Id\n",
            "YearOfObservation\n",
            "Insured_Period\n",
            "Residential\n",
            "Building_Painted\n",
            "Building_Fenced\n",
            "Garden\n",
            "Settlement\n",
            "Building Dimension\n",
            "Building_Type\n",
            "Date_of_Occupancy\n",
            "NumberOfWindows\n",
            "Geo_Code\n",
            "Claim\n",
            "duration\n"
          ],
          "name": "stdout"
        }
      ]
    },
    {
      "cell_type": "code",
      "metadata": {
        "id": "84rh3aoJI4MN",
        "colab_type": "code",
        "colab": {
          "base_uri": "https://localhost:8080/",
          "height": 34
        },
        "outputId": "e500124f-99de-4a30-b17c-f114d19896be"
      },
      "source": [
        "test['Geo_Code'].nunique()"
      ],
      "execution_count": 1998,
      "outputs": [
        {
          "output_type": "execute_result",
          "data": {
            "text/plain": [
              "697"
            ]
          },
          "metadata": {
            "tags": []
          },
          "execution_count": 1998
        }
      ]
    },
    {
      "cell_type": "code",
      "metadata": {
        "id": "hOkfezwAKcDZ",
        "colab_type": "code",
        "colab": {}
      },
      "source": [
        "train['Geo_Code']= train['Geo_Code'].map(train['Geo_Code'].value_counts())\n",
        "test['Geo_Code']= test['Geo_Code'].map(test['Geo_Code'].value_counts())"
      ],
      "execution_count": 0,
      "outputs": []
    },
    {
      "cell_type": "code",
      "metadata": {
        "id": "gqRhy8rXS69B",
        "colab_type": "code",
        "colab": {}
      },
      "source": [
        "object_features = train.dtypes[train.dtypes == 'object'].index"
      ],
      "execution_count": 0,
      "outputs": []
    },
    {
      "cell_type": "code",
      "metadata": {
        "id": "asQjIF1mS_Dg",
        "colab_type": "code",
        "outputId": "38f6c398-44f2-4ce4-d9b0-e365606cae40",
        "colab": {
          "base_uri": "https://localhost:8080/",
          "height": 34
        }
      },
      "source": [
        "object_features"
      ],
      "execution_count": 2001,
      "outputs": [
        {
          "output_type": "execute_result",
          "data": {
            "text/plain": [
              "Index(['Customer Id', 'Garden', 'duration'], dtype='object')"
            ]
          },
          "metadata": {
            "tags": []
          },
          "execution_count": 2001
        }
      ]
    },
    {
      "cell_type": "code",
      "metadata": {
        "id": "M7Kw2supTA3x",
        "colab_type": "code",
        "colab": {}
      },
      "source": [
        "int_features = train.dtypes[train.dtypes == 'int'].index"
      ],
      "execution_count": 0,
      "outputs": []
    },
    {
      "cell_type": "code",
      "metadata": {
        "id": "7YbXf5GrTEbE",
        "colab_type": "code",
        "outputId": "a89e29af-bec9-47a3-82bc-7777d56e0a17",
        "colab": {
          "base_uri": "https://localhost:8080/",
          "height": 87
        }
      },
      "source": [
        "int_features"
      ],
      "execution_count": 2003,
      "outputs": [
        {
          "output_type": "execute_result",
          "data": {
            "text/plain": [
              "Index(['YearOfObservation', 'Residential', 'Building_Painted',\n",
              "       'Building_Fenced', 'Settlement', 'Building_Type', 'NumberOfWindows',\n",
              "       'Claim'],\n",
              "      dtype='object')"
            ]
          },
          "metadata": {
            "tags": []
          },
          "execution_count": 2003
        }
      ]
    },
    {
      "cell_type": "code",
      "metadata": {
        "id": "a1xMJRrtTGZA",
        "colab_type": "code",
        "outputId": "7125f657-f483-4510-d99a-e1c47b0ae953",
        "colab": {
          "base_uri": "https://localhost:8080/",
          "height": 478
        }
      },
      "source": [
        "for feature in object_features:\n",
        "  print(feature, ':')\n",
        "  print(train[feature].value_counts())\n",
        "  print('----------------------')"
      ],
      "execution_count": 2004,
      "outputs": [
        {
          "output_type": "stream",
          "text": [
            "Customer Id :\n",
            "H20       1\n",
            "H18902    1\n",
            "H1289     1\n",
            "H6037     1\n",
            "H1597     1\n",
            "         ..\n",
            "H18800    1\n",
            "H16699    1\n",
            "H18667    1\n",
            "H12658    1\n",
            "H19608    1\n",
            "Name: Customer Id, Length: 7137, dtype: int64\n",
            "----------------------\n",
            "Garden :\n",
            "O    3602\n",
            "V    3528\n",
            "Name: Garden, dtype: int64\n",
            "----------------------\n",
            "duration :\n",
            "a year         6242\n",
            "1st quarter     406\n",
            "3rd quarter     256\n",
            "half_year       233\n",
            "Name: duration, dtype: int64\n",
            "----------------------\n"
          ],
          "name": "stdout"
        }
      ]
    },
    {
      "cell_type": "code",
      "metadata": {
        "id": "7BMOPO56TNtu",
        "colab_type": "code",
        "outputId": "11bfbc02-83fa-4d1b-a531-cddd1b1216f2",
        "colab": {
          "base_uri": "https://localhost:8080/",
          "height": 976
        }
      },
      "source": [
        "for feature in int_features:\n",
        "  print(feature, ':')\n",
        "  print(train[feature].value_counts())\n",
        "  print('----------------------')"
      ],
      "execution_count": 2005,
      "outputs": [
        {
          "output_type": "stream",
          "text": [
            "YearOfObservation :\n",
            "2012    1851\n",
            "2013    1806\n",
            "2014    1368\n",
            "2015    1071\n",
            "2016    1041\n",
            "Name: YearOfObservation, dtype: int64\n",
            "----------------------\n",
            "Residential :\n",
            "0    4954\n",
            "1    2183\n",
            "Name: Residential, dtype: int64\n",
            "----------------------\n",
            "Building_Painted :\n",
            "0    5373\n",
            "1    1764\n",
            "Name: Building_Painted, dtype: int64\n",
            "----------------------\n",
            "Building_Fenced :\n",
            "1    3608\n",
            "0    3529\n",
            "Name: Building_Fenced, dtype: int64\n",
            "----------------------\n",
            "Settlement :\n",
            "1    3610\n",
            "0    3527\n",
            "Name: Settlement, dtype: int64\n",
            "----------------------\n",
            "Building_Type :\n",
            "2    3296\n",
            "1    1713\n",
            "3    1226\n",
            "4     902\n",
            "Name: Building_Type, dtype: int64\n",
            "----------------------\n",
            "NumberOfWindows :\n",
            "10    3528\n",
            "9      939\n",
            "7      844\n",
            "8      639\n",
            "2      363\n",
            "6      306\n",
            "5      211\n",
            "4      116\n",
            "0       75\n",
            "1       67\n",
            "3       49\n",
            "Name: NumberOfWindows, dtype: int64\n",
            "----------------------\n",
            "Claim :\n",
            "0    5503\n",
            "1    1634\n",
            "Name: Claim, dtype: int64\n",
            "----------------------\n"
          ],
          "name": "stdout"
        }
      ]
    },
    {
      "cell_type": "code",
      "metadata": {
        "id": "w-Qr2lZZTXz5",
        "colab_type": "code",
        "outputId": "845f2f7c-c1ca-4c25-c11d-dacaf51cc789",
        "colab": {
          "base_uri": "https://localhost:8080/",
          "height": 407
        }
      },
      "source": [
        "train.describe().transpose()"
      ],
      "execution_count": 2006,
      "outputs": [
        {
          "output_type": "execute_result",
          "data": {
            "text/html": [
              "<div>\n",
              "<style scoped>\n",
              "    .dataframe tbody tr th:only-of-type {\n",
              "        vertical-align: middle;\n",
              "    }\n",
              "\n",
              "    .dataframe tbody tr th {\n",
              "        vertical-align: top;\n",
              "    }\n",
              "\n",
              "    .dataframe thead th {\n",
              "        text-align: right;\n",
              "    }\n",
              "</style>\n",
              "<table border=\"1\" class=\"dataframe\">\n",
              "  <thead>\n",
              "    <tr style=\"text-align: right;\">\n",
              "      <th></th>\n",
              "      <th>count</th>\n",
              "      <th>mean</th>\n",
              "      <th>std</th>\n",
              "      <th>min</th>\n",
              "      <th>25%</th>\n",
              "      <th>50%</th>\n",
              "      <th>75%</th>\n",
              "      <th>max</th>\n",
              "    </tr>\n",
              "  </thead>\n",
              "  <tbody>\n",
              "    <tr>\n",
              "      <th>YearOfObservation</th>\n",
              "      <td>7137.0</td>\n",
              "      <td>2013.670029</td>\n",
              "      <td>1.383961</td>\n",
              "      <td>2012.0</td>\n",
              "      <td>2012.000000</td>\n",
              "      <td>2013.0</td>\n",
              "      <td>2015.0</td>\n",
              "      <td>2016.0</td>\n",
              "    </tr>\n",
              "    <tr>\n",
              "      <th>Insured_Period</th>\n",
              "      <td>7137.0</td>\n",
              "      <td>0.910133</td>\n",
              "      <td>0.239003</td>\n",
              "      <td>0.0</td>\n",
              "      <td>0.997268</td>\n",
              "      <td>1.0</td>\n",
              "      <td>1.0</td>\n",
              "      <td>1.0</td>\n",
              "    </tr>\n",
              "    <tr>\n",
              "      <th>Residential</th>\n",
              "      <td>7137.0</td>\n",
              "      <td>0.305871</td>\n",
              "      <td>0.460808</td>\n",
              "      <td>0.0</td>\n",
              "      <td>0.000000</td>\n",
              "      <td>0.0</td>\n",
              "      <td>1.0</td>\n",
              "      <td>1.0</td>\n",
              "    </tr>\n",
              "    <tr>\n",
              "      <th>Building_Painted</th>\n",
              "      <td>7137.0</td>\n",
              "      <td>0.247163</td>\n",
              "      <td>0.431392</td>\n",
              "      <td>0.0</td>\n",
              "      <td>0.000000</td>\n",
              "      <td>0.0</td>\n",
              "      <td>0.0</td>\n",
              "      <td>1.0</td>\n",
              "    </tr>\n",
              "    <tr>\n",
              "      <th>Building_Fenced</th>\n",
              "      <td>7137.0</td>\n",
              "      <td>0.505535</td>\n",
              "      <td>0.500004</td>\n",
              "      <td>0.0</td>\n",
              "      <td>0.000000</td>\n",
              "      <td>1.0</td>\n",
              "      <td>1.0</td>\n",
              "      <td>1.0</td>\n",
              "    </tr>\n",
              "    <tr>\n",
              "      <th>Settlement</th>\n",
              "      <td>7137.0</td>\n",
              "      <td>0.505815</td>\n",
              "      <td>0.500001</td>\n",
              "      <td>0.0</td>\n",
              "      <td>0.000000</td>\n",
              "      <td>1.0</td>\n",
              "      <td>1.0</td>\n",
              "      <td>1.0</td>\n",
              "    </tr>\n",
              "    <tr>\n",
              "      <th>Building Dimension</th>\n",
              "      <td>7031.0</td>\n",
              "      <td>1889.857062</td>\n",
              "      <td>2279.354756</td>\n",
              "      <td>30.0</td>\n",
              "      <td>530.000000</td>\n",
              "      <td>1091.0</td>\n",
              "      <td>2300.0</td>\n",
              "      <td>20940.0</td>\n",
              "    </tr>\n",
              "    <tr>\n",
              "      <th>Building_Type</th>\n",
              "      <td>7137.0</td>\n",
              "      <td>2.184531</td>\n",
              "      <td>0.939896</td>\n",
              "      <td>1.0</td>\n",
              "      <td>2.000000</td>\n",
              "      <td>2.0</td>\n",
              "      <td>3.0</td>\n",
              "      <td>4.0</td>\n",
              "    </tr>\n",
              "    <tr>\n",
              "      <th>Date_of_Occupancy</th>\n",
              "      <td>6634.0</td>\n",
              "      <td>1964.404582</td>\n",
              "      <td>36.036466</td>\n",
              "      <td>1545.0</td>\n",
              "      <td>1960.000000</td>\n",
              "      <td>1970.0</td>\n",
              "      <td>1980.0</td>\n",
              "      <td>2016.0</td>\n",
              "    </tr>\n",
              "    <tr>\n",
              "      <th>NumberOfWindows</th>\n",
              "      <td>7137.0</td>\n",
              "      <td>8.273224</td>\n",
              "      <td>2.446662</td>\n",
              "      <td>0.0</td>\n",
              "      <td>7.000000</td>\n",
              "      <td>9.0</td>\n",
              "      <td>10.0</td>\n",
              "      <td>10.0</td>\n",
              "    </tr>\n",
              "    <tr>\n",
              "      <th>Geo_Code</th>\n",
              "      <td>7035.0</td>\n",
              "      <td>30.274200</td>\n",
              "      <td>34.309982</td>\n",
              "      <td>1.0</td>\n",
              "      <td>5.000000</td>\n",
              "      <td>17.0</td>\n",
              "      <td>45.0</td>\n",
              "      <td>142.0</td>\n",
              "    </tr>\n",
              "    <tr>\n",
              "      <th>Claim</th>\n",
              "      <td>7137.0</td>\n",
              "      <td>0.228948</td>\n",
              "      <td>0.420185</td>\n",
              "      <td>0.0</td>\n",
              "      <td>0.000000</td>\n",
              "      <td>0.0</td>\n",
              "      <td>0.0</td>\n",
              "      <td>1.0</td>\n",
              "    </tr>\n",
              "  </tbody>\n",
              "</table>\n",
              "</div>"
            ],
            "text/plain": [
              "                     count         mean          std  ...     50%     75%      max\n",
              "YearOfObservation   7137.0  2013.670029     1.383961  ...  2013.0  2015.0   2016.0\n",
              "Insured_Period      7137.0     0.910133     0.239003  ...     1.0     1.0      1.0\n",
              "Residential         7137.0     0.305871     0.460808  ...     0.0     1.0      1.0\n",
              "Building_Painted    7137.0     0.247163     0.431392  ...     0.0     0.0      1.0\n",
              "Building_Fenced     7137.0     0.505535     0.500004  ...     1.0     1.0      1.0\n",
              "Settlement          7137.0     0.505815     0.500001  ...     1.0     1.0      1.0\n",
              "Building Dimension  7031.0  1889.857062  2279.354756  ...  1091.0  2300.0  20940.0\n",
              "Building_Type       7137.0     2.184531     0.939896  ...     2.0     3.0      4.0\n",
              "Date_of_Occupancy   6634.0  1964.404582    36.036466  ...  1970.0  1980.0   2016.0\n",
              "NumberOfWindows     7137.0     8.273224     2.446662  ...     9.0    10.0     10.0\n",
              "Geo_Code            7035.0    30.274200    34.309982  ...    17.0    45.0    142.0\n",
              "Claim               7137.0     0.228948     0.420185  ...     0.0     0.0      1.0\n",
              "\n",
              "[12 rows x 8 columns]"
            ]
          },
          "metadata": {
            "tags": []
          },
          "execution_count": 2006
        }
      ]
    },
    {
      "cell_type": "code",
      "metadata": {
        "id": "qR54WYuzTaC_",
        "colab_type": "code",
        "outputId": "61bbd77a-ea3e-49ba-e93a-3589766d232d",
        "colab": {
          "base_uri": "https://localhost:8080/",
          "height": 302
        }
      },
      "source": [
        "sns.countplot(train['Garden'])"
      ],
      "execution_count": 2007,
      "outputs": [
        {
          "output_type": "execute_result",
          "data": {
            "text/plain": [
              "<matplotlib.axes._subplots.AxesSubplot at 0x7fd757acbef0>"
            ]
          },
          "metadata": {
            "tags": []
          },
          "execution_count": 2007
        },
        {
          "output_type": "display_data",
          "data": {
            "image/png": "[encoded data removed]",
            "text/plain": [
              "<Figure size 432x288 with 1 Axes>"
            ]
          },
          "metadata": {
            "tags": []
          }
        }
      ]
    },
    {
      "cell_type": "code",
      "metadata": {
        "id": "RmlucLSCTeER",
        "colab_type": "code",
        "outputId": "ae861c04-7cae-4d2c-92f1-4debc97f3c0e",
        "colab": {
          "base_uri": "https://localhost:8080/",
          "height": 302
        }
      },
      "source": [
        "sns.countplot(train['Residential'])"
      ],
      "execution_count": 2008,
      "outputs": [
        {
          "output_type": "execute_result",
          "data": {
            "text/plain": [
              "<matplotlib.axes._subplots.AxesSubplot at 0x7fd757ad3e48>"
            ]
          },
          "metadata": {
            "tags": []
          },
          "execution_count": 2008
        },
        {
          "output_type": "display_data",
          "data": {
            "image/png": "[encoded data removed]",
            "text/plain": [
              "<Figure size 432x288 with 1 Axes>"
            ]
          },
          "metadata": {
            "tags": []
          }
        }
      ]
    },
    {
      "cell_type": "code",
      "metadata": {
        "id": "uvcSPtnyWBbd",
        "colab_type": "code",
        "outputId": "3197afe7-4779-4f7c-f00a-7745e34cc253",
        "colab": {
          "base_uri": "https://localhost:8080/",
          "height": 302
        }
      },
      "source": [
        "sns.countplot(x='Garden', hue='Claim', data=train)"
      ],
      "execution_count": 2009,
      "outputs": [
        {
          "output_type": "execute_result",
          "data": {
            "text/plain": [
              "<matplotlib.axes._subplots.AxesSubplot at 0x7fd757acbd68>"
            ]
          },
          "metadata": {
            "tags": []
          },
          "execution_count": 2009
        },
        {
          "output_type": "display_data",
          "data": {
            "image/png": "[encoded data removed]",
            "text/plain": [
              "<Figure size 432x288 with 1 Axes>"
            ]
          },
          "metadata": {
            "tags": []
          }
        }
      ]
    },
    {
      "cell_type": "code",
      "metadata": {
        "id": "DgZh-Rm7YGah",
        "colab_type": "code",
        "outputId": "6999add3-6cd8-4080-e80b-879a3005f222",
        "colab": {
          "base_uri": "https://localhost:8080/",
          "height": 302
        }
      },
      "source": [
        "sns.countplot(x='Building_Type', hue='Claim', data=train)"
      ],
      "execution_count": 2010,
      "outputs": [
        {
          "output_type": "execute_result",
          "data": {
            "text/plain": [
              "<matplotlib.axes._subplots.AxesSubplot at 0x7fd7577cdcc0>"
            ]
          },
          "metadata": {
            "tags": []
          },
          "execution_count": 2010
        },
        {
          "output_type": "display_data",
          "data": {
            "image/png": "[encoded data removed]",
            "text/plain": [
              "<Figure size 432x288 with 1 Axes>"
            ]
          },
          "metadata": {
            "tags": []
          }
        }
      ]
    },
    {
      "cell_type": "code",
      "metadata": {
        "id": "yLmqpNunYJ8z",
        "colab_type": "code",
        "outputId": "f5614017-6594-4eda-ec8d-0b6863f9bcf8",
        "colab": {
          "base_uri": "https://localhost:8080/",
          "height": 302
        }
      },
      "source": [
        "sns.countplot(x='NumberOfWindows', hue='Claim', data=train)"
      ],
      "execution_count": 2011,
      "outputs": [
        {
          "output_type": "execute_result",
          "data": {
            "text/plain": [
              "<matplotlib.axes._subplots.AxesSubplot at 0x7fd7573e7208>"
            ]
          },
          "metadata": {
            "tags": []
          },
          "execution_count": 2011
        },
        {
          "output_type": "display_data",
          "data": {
            "image/png": "[encoded data removed]",
            "text/plain": [
              "<Figure size 432x288 with 1 Axes>"
            ]
          },
          "metadata": {
            "tags": []
          }
        }
      ]
    },
    {
      "cell_type": "code",
      "metadata": {
        "id": "WKaOc2HzYRHi",
        "colab_type": "code",
        "outputId": "19bc16d6-c06c-4834-9dfa-745d08ee51fb",
        "colab": {
          "base_uri": "https://localhost:8080/",
          "height": 335
        }
      },
      "source": [
        "train.groupby(['Residential', 'Settlement'])['Claim'].value_counts().sort_values(ascending=False).head().plot(kind='bar')"
      ],
      "execution_count": 2012,
      "outputs": [
        {
          "output_type": "execute_result",
          "data": {
            "text/plain": [
              "<matplotlib.axes._subplots.AxesSubplot at 0x7fd7572fdc18>"
            ]
          },
          "metadata": {
            "tags": []
          },
          "execution_count": 2012
        },
        {
          "output_type": "display_data",
          "data": {
            "image/png": "[encoded data removed]",
            "text/plain": [
              "<Figure size 432x288 with 1 Axes>"
            ]
          },
          "metadata": {
            "tags": []
          }
        }
      ]
    },
    {
      "cell_type": "code",
      "metadata": {
        "id": "nvK3bEQ3Y3hB",
        "colab_type": "code",
        "colab": {}
      },
      "source": [
        "# Data preprocessing"
      ],
      "execution_count": 0,
      "outputs": []
    },
    {
      "cell_type": "code",
      "metadata": {
        "id": "-EoSCxIiY7y9",
        "colab_type": "code",
        "outputId": "7e9af7c1-e91f-4926-ccfb-508c597d76c9",
        "colab": {
          "base_uri": "https://localhost:8080/",
          "height": 301
        }
      },
      "source": [
        "train.isnull().sum() / len(train)*100"
      ],
      "execution_count": 2014,
      "outputs": [
        {
          "output_type": "execute_result",
          "data": {
            "text/plain": [
              "Customer Id           0.000000\n",
              "YearOfObservation     0.000000\n",
              "Insured_Period        0.000000\n",
              "Residential           0.000000\n",
              "Building_Painted      0.000000\n",
              "Building_Fenced       0.000000\n",
              "Garden                0.098080\n",
              "Settlement            0.000000\n",
              "Building Dimension    1.485218\n",
              "Building_Type         0.000000\n",
              "Date_of_Occupancy     7.047779\n",
              "NumberOfWindows       0.000000\n",
              "Geo_Code              1.429172\n",
              "Claim                 0.000000\n",
              "duration              0.000000\n",
              "dtype: float64"
            ]
          },
          "metadata": {
            "tags": []
          },
          "execution_count": 2014
        }
      ]
    },
    {
      "cell_type": "code",
      "metadata": {
        "id": "lRGmHm2Saq6M",
        "colab_type": "code",
        "colab": {}
      },
      "source": [
        "train['Date_of_Occupancy'] = train['Date_of_Occupancy'].fillna(train['Date_of_Occupancy'].mode()[0])\n",
        "test['Date_of_Occupancy'] = test['Date_of_Occupancy'].fillna(test['Date_of_Occupancy'].mode()[0])"
      ],
      "execution_count": 0,
      "outputs": []
    },
    {
      "cell_type": "code",
      "metadata": {
        "id": "xcAWGYAxcD8v",
        "colab_type": "code",
        "colab": {}
      },
      "source": [
        "train['Building_Age']= train['YearOfObservation'] - train['Date_of_Occupancy']\n",
        "test['Building_Age']= test['YearOfObservation'] - test['Date_of_Occupancy']"
      ],
      "execution_count": 0,
      "outputs": []
    },
    {
      "cell_type": "code",
      "metadata": {
        "id": "AmsEgesncQrv",
        "colab_type": "code",
        "outputId": "195766dd-bb26-4cc9-cffb-5d0b0a77d30d",
        "colab": {
          "base_uri": "https://localhost:8080/",
          "height": 34
        }
      },
      "source": [
        "train['Building_Age'].mean()"
      ],
      "execution_count": 2017,
      "outputs": [
        {
          "output_type": "execute_result",
          "data": {
            "text/plain": [
              "49.57587221521648"
            ]
          },
          "metadata": {
            "tags": []
          },
          "execution_count": 2017
        }
      ]
    },
    {
      "cell_type": "code",
      "metadata": {
        "id": "jBTdl-XLcS4t",
        "colab_type": "code",
        "colab": {}
      },
      "source": [
        "train['Building Dimension'] = train['Building Dimension'].fillna(train['Building Dimension'].mean())\n",
        "test['Building Dimension'] = test['Building Dimension'].fillna(test['Building Dimension'].mean())"
      ],
      "execution_count": 0,
      "outputs": []
    },
    {
      "cell_type": "code",
      "metadata": {
        "id": "lpbFD3bScw8a",
        "colab_type": "code",
        "outputId": "645e3b46-be35-45e2-c369-6dfbff8e4f88",
        "colab": {
          "base_uri": "https://localhost:8080/",
          "height": 318
        }
      },
      "source": [
        "train.isnull().sum()"
      ],
      "execution_count": 2019,
      "outputs": [
        {
          "output_type": "execute_result",
          "data": {
            "text/plain": [
              "Customer Id             0\n",
              "YearOfObservation       0\n",
              "Insured_Period          0\n",
              "Residential             0\n",
              "Building_Painted        0\n",
              "Building_Fenced         0\n",
              "Garden                  7\n",
              "Settlement              0\n",
              "Building Dimension      0\n",
              "Building_Type           0\n",
              "Date_of_Occupancy       0\n",
              "NumberOfWindows         0\n",
              "Geo_Code              102\n",
              "Claim                   0\n",
              "duration                0\n",
              "Building_Age            0\n",
              "dtype: int64"
            ]
          },
          "metadata": {
            "tags": []
          },
          "execution_count": 2019
        }
      ]
    },
    {
      "cell_type": "code",
      "metadata": {
        "id": "_SAEDBGeOvvD",
        "colab_type": "code",
        "outputId": "f6e44c15-a056-4237-8974-fe16a9dcf242",
        "colab": {
          "base_uri": "https://localhost:8080/",
          "height": 234
        }
      },
      "source": [
        "train.head()"
      ],
      "execution_count": 2020,
      "outputs": [
        {
          "output_type": "execute_result",
          "data": {
            "text/html": [
              "<div>\n",
              "<style scoped>\n",
              "    .dataframe tbody tr th:only-of-type {\n",
              "        vertical-align: middle;\n",
              "    }\n",
              "\n",
              "    .dataframe tbody tr th {\n",
              "        vertical-align: top;\n",
              "    }\n",
              "\n",
              "    .dataframe thead th {\n",
              "        text-align: right;\n",
              "    }\n",
              "</style>\n",
              "<table border=\"1\" class=\"dataframe\">\n",
              "  <thead>\n",
              "    <tr style=\"text-align: right;\">\n",
              "      <th></th>\n",
              "      <th>Customer Id</th>\n",
              "      <th>YearOfObservation</th>\n",
              "      <th>Insured_Period</th>\n",
              "      <th>Residential</th>\n",
              "      <th>Building_Painted</th>\n",
              "      <th>Building_Fenced</th>\n",
              "      <th>Garden</th>\n",
              "      <th>Settlement</th>\n",
              "      <th>Building Dimension</th>\n",
              "      <th>Building_Type</th>\n",
              "      <th>Date_of_Occupancy</th>\n",
              "      <th>NumberOfWindows</th>\n",
              "      <th>Geo_Code</th>\n",
              "      <th>Claim</th>\n",
              "      <th>duration</th>\n",
              "      <th>Building_Age</th>\n",
              "    </tr>\n",
              "  </thead>\n",
              "  <tbody>\n",
              "    <tr>\n",
              "      <th>0</th>\n",
              "      <td>H14663</td>\n",
              "      <td>2013</td>\n",
              "      <td>1.0</td>\n",
              "      <td>0</td>\n",
              "      <td>1</td>\n",
              "      <td>0</td>\n",
              "      <td>V</td>\n",
              "      <td>0</td>\n",
              "      <td>290.0</td>\n",
              "      <td>1</td>\n",
              "      <td>1960.0</td>\n",
              "      <td>10</td>\n",
              "      <td>5.0</td>\n",
              "      <td>0</td>\n",
              "      <td>a year</td>\n",
              "      <td>53.0</td>\n",
              "    </tr>\n",
              "    <tr>\n",
              "      <th>1</th>\n",
              "      <td>H2037</td>\n",
              "      <td>2015</td>\n",
              "      <td>1.0</td>\n",
              "      <td>0</td>\n",
              "      <td>0</td>\n",
              "      <td>1</td>\n",
              "      <td>O</td>\n",
              "      <td>1</td>\n",
              "      <td>490.0</td>\n",
              "      <td>1</td>\n",
              "      <td>1850.0</td>\n",
              "      <td>9</td>\n",
              "      <td>5.0</td>\n",
              "      <td>0</td>\n",
              "      <td>a year</td>\n",
              "      <td>165.0</td>\n",
              "    </tr>\n",
              "    <tr>\n",
              "      <th>2</th>\n",
              "      <td>H3802</td>\n",
              "      <td>2014</td>\n",
              "      <td>1.0</td>\n",
              "      <td>0</td>\n",
              "      <td>1</td>\n",
              "      <td>0</td>\n",
              "      <td>V</td>\n",
              "      <td>0</td>\n",
              "      <td>595.0</td>\n",
              "      <td>1</td>\n",
              "      <td>1960.0</td>\n",
              "      <td>10</td>\n",
              "      <td>5.0</td>\n",
              "      <td>0</td>\n",
              "      <td>a year</td>\n",
              "      <td>54.0</td>\n",
              "    </tr>\n",
              "    <tr>\n",
              "      <th>3</th>\n",
              "      <td>H3834</td>\n",
              "      <td>2013</td>\n",
              "      <td>1.0</td>\n",
              "      <td>0</td>\n",
              "      <td>0</td>\n",
              "      <td>0</td>\n",
              "      <td>V</td>\n",
              "      <td>0</td>\n",
              "      <td>2840.0</td>\n",
              "      <td>1</td>\n",
              "      <td>1960.0</td>\n",
              "      <td>10</td>\n",
              "      <td>5.0</td>\n",
              "      <td>0</td>\n",
              "      <td>a year</td>\n",
              "      <td>53.0</td>\n",
              "    </tr>\n",
              "    <tr>\n",
              "      <th>4</th>\n",
              "      <td>H5053</td>\n",
              "      <td>2014</td>\n",
              "      <td>1.0</td>\n",
              "      <td>0</td>\n",
              "      <td>0</td>\n",
              "      <td>1</td>\n",
              "      <td>O</td>\n",
              "      <td>1</td>\n",
              "      <td>680.0</td>\n",
              "      <td>1</td>\n",
              "      <td>1800.0</td>\n",
              "      <td>7</td>\n",
              "      <td>5.0</td>\n",
              "      <td>0</td>\n",
              "      <td>a year</td>\n",
              "      <td>214.0</td>\n",
              "    </tr>\n",
              "  </tbody>\n",
              "</table>\n",
              "</div>"
            ],
            "text/plain": [
              "  Customer Id  YearOfObservation  Insured_Period  ...  Claim  duration  Building_Age\n",
              "0      H14663               2013             1.0  ...      0    a year          53.0\n",
              "1       H2037               2015             1.0  ...      0    a year         165.0\n",
              "2       H3802               2014             1.0  ...      0    a year          54.0\n",
              "3       H3834               2013             1.0  ...      0    a year          53.0\n",
              "4       H5053               2014             1.0  ...      0    a year         214.0\n",
              "\n",
              "[5 rows x 16 columns]"
            ]
          },
          "metadata": {
            "tags": []
          },
          "execution_count": 2020
        }
      ]
    },
    {
      "cell_type": "code",
      "metadata": {
        "id": "s_aA7yJajlSI",
        "colab_type": "code",
        "colab": {}
      },
      "source": [
        "train =pd.get_dummies(train, columns =['duration'])"
      ],
      "execution_count": 0,
      "outputs": []
    },
    {
      "cell_type": "code",
      "metadata": {
        "id": "W-HU6SEdRtVA",
        "colab_type": "code",
        "colab": {}
      },
      "source": [
        "test =pd.get_dummies(test, columns =['duration'])"
      ],
      "execution_count": 0,
      "outputs": []
    },
    {
      "cell_type": "code",
      "metadata": {
        "id": "Z3Vouu5tUGuU",
        "colab_type": "code",
        "outputId": "1724b3c6-e19a-4a7b-e64e-00ac70a5663b",
        "colab": {
          "base_uri": "https://localhost:8080/",
          "height": 372
        }
      },
      "source": [
        "train.dtypes"
      ],
      "execution_count": 2023,
      "outputs": [
        {
          "output_type": "execute_result",
          "data": {
            "text/plain": [
              "Customer Id              object\n",
              "YearOfObservation         int64\n",
              "Insured_Period          float64\n",
              "Residential               int64\n",
              "Building_Painted          int64\n",
              "Building_Fenced           int64\n",
              "Garden                   object\n",
              "Settlement                int64\n",
              "Building Dimension      float64\n",
              "Building_Type             int64\n",
              "Date_of_Occupancy       float64\n",
              "NumberOfWindows           int64\n",
              "Geo_Code                float64\n",
              "Claim                     int64\n",
              "Building_Age            float64\n",
              "duration_1st quarter      uint8\n",
              "duration_3rd quarter      uint8\n",
              "duration_a year           uint8\n",
              "duration_half_year        uint8\n",
              "dtype: object"
            ]
          },
          "metadata": {
            "tags": []
          },
          "execution_count": 2023
        }
      ]
    },
    {
      "cell_type": "code",
      "metadata": {
        "id": "25IeyINbT1jw",
        "colab_type": "code",
        "outputId": "2003f2fe-e766-4002-e62a-ca5e612115ce",
        "colab": {
          "base_uri": "https://localhost:8080/",
          "height": 372
        }
      },
      "source": [
        "train.isnull().sum()"
      ],
      "execution_count": 2024,
      "outputs": [
        {
          "output_type": "execute_result",
          "data": {
            "text/plain": [
              "Customer Id               0\n",
              "YearOfObservation         0\n",
              "Insured_Period            0\n",
              "Residential               0\n",
              "Building_Painted          0\n",
              "Building_Fenced           0\n",
              "Garden                    7\n",
              "Settlement                0\n",
              "Building Dimension        0\n",
              "Building_Type             0\n",
              "Date_of_Occupancy         0\n",
              "NumberOfWindows           0\n",
              "Geo_Code                102\n",
              "Claim                     0\n",
              "Building_Age              0\n",
              "duration_1st quarter      0\n",
              "duration_3rd quarter      0\n",
              "duration_a year           0\n",
              "duration_half_year        0\n",
              "dtype: int64"
            ]
          },
          "metadata": {
            "tags": []
          },
          "execution_count": 2024
        }
      ]
    },
    {
      "cell_type": "code",
      "metadata": {
        "id": "0n7o5bACSXBv",
        "colab_type": "code",
        "colab": {}
      },
      "source": [
        "train['Geo_Code'] =  train['Geo_Code'].fillna(train['Geo_Code'].mode()[0])\n",
        "test['Geo_Code'] =  test['Geo_Code'].fillna(test['Geo_Code'].mode()[0])"
      ],
      "execution_count": 0,
      "outputs": []
    },
    {
      "cell_type": "code",
      "metadata": {
        "id": "S93ol_JXjrAU",
        "colab_type": "code",
        "colab": {}
      },
      "source": [
        "train = train.drop(['Customer Id'], axis=1)\n",
        "test = test.drop(['Customer Id'], axis=1)"
      ],
      "execution_count": 0,
      "outputs": []
    },
    {
      "cell_type": "code",
      "metadata": {
        "id": "ZRadHP80u9fb",
        "colab_type": "code",
        "outputId": "da4b5594-acd1-42e4-bf5d-3c770ba9eca4",
        "colab": {
          "base_uri": "https://localhost:8080/",
          "height": 34
        }
      },
      "source": [
        "print(test.shape, train.shape)"
      ],
      "execution_count": 2027,
      "outputs": [
        {
          "output_type": "stream",
          "text": [
            "(3069, 17) (7137, 18)\n"
          ],
          "name": "stdout"
        }
      ]
    },
    {
      "cell_type": "code",
      "metadata": {
        "id": "qIcWALvqmEdM",
        "colab_type": "code",
        "colab": {}
      },
      "source": [
        "plt.rcParams['figure.figsize'] = [15,8]"
      ],
      "execution_count": 0,
      "outputs": []
    },
    {
      "cell_type": "code",
      "metadata": {
        "id": "5gMObgYpmPU0",
        "colab_type": "code",
        "outputId": "410edf29-fe32-4e8e-a6e3-caf20bea8875",
        "colab": {
          "base_uri": "https://localhost:8080/",
          "height": 612
        }
      },
      "source": [
        "sns.heatmap(train.corr(), annot=True, cmap='RdBu')"
      ],
      "execution_count": 2029,
      "outputs": [
        {
          "output_type": "execute_result",
          "data": {
            "text/plain": [
              "<matplotlib.axes._subplots.AxesSubplot at 0x7fd7574a27b8>"
            ]
          },
          "metadata": {
            "tags": []
          },
          "execution_count": 2029
        },
        {
          "output_type": "display_data",
          "data": {
            "image/png": "[encoded data removed]",
            "text/plain": [
              "<Figure size 1080x576 with 2 Axes>"
            ]
          },
          "metadata": {
            "tags": []
          }
        }
      ]
    },
    {
      "cell_type": "code",
      "metadata": {
        "id": "WvGsp3WANmkq",
        "colab_type": "code",
        "outputId": "ff39df22-5af8-44a1-c508-7cc35ea95f67",
        "colab": {
          "base_uri": "https://localhost:8080/",
          "height": 123
        }
      },
      "source": [
        "test.columns"
      ],
      "execution_count": 2030,
      "outputs": [
        {
          "output_type": "execute_result",
          "data": {
            "text/plain": [
              "Index(['YearOfObservation', 'Insured_Period', 'Residential',\n",
              "       'Building_Painted', 'Building_Fenced', 'Garden', 'Settlement',\n",
              "       'Building Dimension', 'Building_Type', 'Date_of_Occupancy',\n",
              "       'NumberOfWindows', 'Geo_Code', 'Building_Age', 'duration_1st quarter',\n",
              "       'duration_3rd quarter', 'duration_a year', 'duration_half_year'],\n",
              "      dtype='object')"
            ]
          },
          "metadata": {
            "tags": []
          },
          "execution_count": 2030
        }
      ]
    },
    {
      "cell_type": "code",
      "metadata": {
        "id": "cgH6C6XWRR_J",
        "colab_type": "code",
        "colab": {
          "base_uri": "https://localhost:8080/",
          "height": 34
        },
        "outputId": "99a46caa-def7-4d7f-8b38-d4f3dd7d9c0a"
      },
      "source": [
        "test['NumberOfWindows'].dtypes"
      ],
      "execution_count": 2031,
      "outputs": [
        {
          "output_type": "execute_result",
          "data": {
            "text/plain": [
              "dtype('int64')"
            ]
          },
          "metadata": {
            "tags": []
          },
          "execution_count": 2031
        }
      ]
    },
    {
      "cell_type": "code",
      "metadata": {
        "id": "HMD74jBZYdZc",
        "colab_type": "code",
        "outputId": "4958fd4c-8d5f-418d-f6b0-c96072471d59",
        "colab": {
          "base_uri": "https://localhost:8080/",
          "height": 141
        }
      },
      "source": [
        "train.columns"
      ],
      "execution_count": 2032,
      "outputs": [
        {
          "output_type": "execute_result",
          "data": {
            "text/plain": [
              "Index(['YearOfObservation', 'Insured_Period', 'Residential',\n",
              "       'Building_Painted', 'Building_Fenced', 'Garden', 'Settlement',\n",
              "       'Building Dimension', 'Building_Type', 'Date_of_Occupancy',\n",
              "       'NumberOfWindows', 'Geo_Code', 'Claim', 'Building_Age',\n",
              "       'duration_1st quarter', 'duration_3rd quarter', 'duration_a year',\n",
              "       'duration_half_year'],\n",
              "      dtype='object')"
            ]
          },
          "metadata": {
            "tags": []
          },
          "execution_count": 2032
        }
      ]
    },
    {
      "cell_type": "code",
      "metadata": {
        "id": "kUNKzRQbpTSp",
        "colab_type": "code",
        "colab": {}
      },
      "source": [
        "train = train.drop(['Insured_Period','Garden','YearOfObservation','Building_Fenced'], axis=1)\n",
        "test = test.drop(['Insured_Period','Garden','YearOfObservation','Building_Fenced'], axis=1)"
      ],
      "execution_count": 0,
      "outputs": []
    },
    {
      "cell_type": "code",
      "metadata": {
        "id": "66oS-g-yWIqE",
        "colab_type": "code",
        "outputId": "70f2fdc4-6c44-440c-e2b9-29d63cc21164",
        "colab": {
          "base_uri": "https://localhost:8080/",
          "height": 283
        }
      },
      "source": [
        "train.dtypes"
      ],
      "execution_count": 2034,
      "outputs": [
        {
          "output_type": "execute_result",
          "data": {
            "text/plain": [
              "Residential               int64\n",
              "Building_Painted          int64\n",
              "Settlement                int64\n",
              "Building Dimension      float64\n",
              "Building_Type             int64\n",
              "Date_of_Occupancy       float64\n",
              "NumberOfWindows           int64\n",
              "Geo_Code                float64\n",
              "Claim                     int64\n",
              "Building_Age            float64\n",
              "duration_1st quarter      uint8\n",
              "duration_3rd quarter      uint8\n",
              "duration_a year           uint8\n",
              "duration_half_year        uint8\n",
              "dtype: object"
            ]
          },
          "metadata": {
            "tags": []
          },
          "execution_count": 2034
        }
      ]
    },
    {
      "cell_type": "code",
      "metadata": {
        "id": "4T4r32U1sWl3",
        "colab_type": "code",
        "colab": {}
      },
      "source": [
        "X = train.drop('Claim', axis=1)\n",
        "y = train['Claim']"
      ],
      "execution_count": 0,
      "outputs": []
    },
    {
      "cell_type": "code",
      "metadata": {
        "id": "oZDDVjAtKArm",
        "colab_type": "code",
        "colab": {}
      },
      "source": [
        "from sklearn.model_selection import train_test_split"
      ],
      "execution_count": 0,
      "outputs": []
    },
    {
      "cell_type": "code",
      "metadata": {
        "id": "SK2WKd9isdNA",
        "colab_type": "code",
        "outputId": "d5b27945-b062-4559-866d-27c87999a6e8",
        "colab": {
          "base_uri": "https://localhost:8080/",
          "height": 34
        }
      },
      "source": [
        "X.shape"
      ],
      "execution_count": 2037,
      "outputs": [
        {
          "output_type": "execute_result",
          "data": {
            "text/plain": [
              "(7137, 13)"
            ]
          },
          "metadata": {
            "tags": []
          },
          "execution_count": 2037
        }
      ]
    },
    {
      "cell_type": "code",
      "metadata": {
        "id": "COQM0ZoEsgiP",
        "colab_type": "code",
        "outputId": "a7dfb907-dc00-4d15-8a5e-084a7a3e46ff",
        "colab": {
          "base_uri": "https://localhost:8080/",
          "height": 34
        }
      },
      "source": [
        "test.shape"
      ],
      "execution_count": 2038,
      "outputs": [
        {
          "output_type": "execute_result",
          "data": {
            "text/plain": [
              "(3069, 13)"
            ]
          },
          "metadata": {
            "tags": []
          },
          "execution_count": 2038
        }
      ]
    },
    {
      "cell_type": "code",
      "metadata": {
        "id": "iY4hjFtvsscO",
        "colab_type": "code",
        "colab": {}
      },
      "source": [
        "X_train, X_test, y_train, y_test = train_test_split(X,y, test_size=0.15, random_state=101)"
      ],
      "execution_count": 0,
      "outputs": []
    },
    {
      "cell_type": "code",
      "metadata": {
        "id": "NazOR68NsuhN",
        "colab_type": "code",
        "outputId": "64de3a1a-44b5-429f-89a2-5feb707afb12",
        "colab": {
          "base_uri": "https://localhost:8080/",
          "height": 87
        }
      },
      "source": [
        "print(X_train.shape)\n",
        "print(X_test.shape)\n",
        "print(y_train.shape)\n",
        "print(y_test.shape)"
      ],
      "execution_count": 2040,
      "outputs": [
        {
          "output_type": "stream",
          "text": [
            "(6066, 13)\n",
            "(1071, 13)\n",
            "(6066,)\n",
            "(1071,)\n"
          ],
          "name": "stdout"
        }
      ]
    },
    {
      "cell_type": "code",
      "metadata": {
        "id": "pkhaKWvjs45h",
        "colab_type": "code",
        "colab": {}
      },
      "source": [
        "from sklearn.model_selection import cross_val_score"
      ],
      "execution_count": 0,
      "outputs": []
    },
    {
      "cell_type": "code",
      "metadata": {
        "id": "zPE4j3_0tF_N",
        "colab_type": "code",
        "colab": {}
      },
      "source": [
        "from sklearn.metrics import accuracy_score, confusion_matrix, classification_report"
      ],
      "execution_count": 0,
      "outputs": []
    },
    {
      "cell_type": "code",
      "metadata": {
        "id": "udESQ9AftJst",
        "colab_type": "code",
        "colab": {}
      },
      "source": [
        "from sklearn.ensemble import RandomForestClassifier"
      ],
      "execution_count": 0,
      "outputs": []
    },
    {
      "cell_type": "code",
      "metadata": {
        "id": "pBx1IaqftL17",
        "colab_type": "code",
        "colab": {}
      },
      "source": [
        "model = RandomForestClassifier(n_estimators = 500, max_depth=5, random_state=42)"
      ],
      "execution_count": 0,
      "outputs": []
    },
    {
      "cell_type": "code",
      "metadata": {
        "id": "29a7NgUd0iVj",
        "colab_type": "code",
        "outputId": "188d0207-31b5-48b1-dbf9-ac164fc4fd0e",
        "colab": {
          "base_uri": "https://localhost:8080/",
          "height": 34
        }
      },
      "source": [
        "cross_val_score(model, X_train, y_train, cv =3 )"
      ],
      "execution_count": 2064,
      "outputs": [
        {
          "output_type": "execute_result",
          "data": {
            "text/plain": [
              "array([0.78140455, 0.77546983, 0.77942631])"
            ]
          },
          "metadata": {
            "tags": []
          },
          "execution_count": 2064
        }
      ]
    },
    {
      "cell_type": "code",
      "metadata": {
        "id": "Brg9zNA7Od8O",
        "colab_type": "code",
        "colab": {
          "base_uri": "https://localhost:8080/",
          "height": 34
        },
        "outputId": "677c1c65-5ec0-46b4-eb6a-5bda2eaa4653"
      },
      "source": [
        "0.78041543-0.77645895"
      ],
      "execution_count": 2046,
      "outputs": [
        {
          "output_type": "execute_result",
          "data": {
            "text/plain": [
              "0.00395648000000004"
            ]
          },
          "metadata": {
            "tags": []
          },
          "execution_count": 2046
        }
      ]
    },
    {
      "cell_type": "code",
      "metadata": {
        "id": "EjT6cILwOkKy",
        "colab_type": "code",
        "colab": {
          "base_uri": "https://localhost:8080/",
          "height": 34
        },
        "outputId": "0585efbc-9402-4bce-caa7-fd0cce89438c"
      },
      "source": [
        "0.78140455-0.77744807"
      ],
      "execution_count": 2047,
      "outputs": [
        {
          "output_type": "execute_result",
          "data": {
            "text/plain": [
              "0.003956479999999929"
            ]
          },
          "metadata": {
            "tags": []
          },
          "execution_count": 2047
        }
      ]
    },
    {
      "cell_type": "code",
      "metadata": {
        "id": "snnqDIMktNqt",
        "colab_type": "code",
        "colab": {}
      },
      "source": [
        "model=model.fit(X_train,y_train)"
      ],
      "execution_count": 0,
      "outputs": []
    },
    {
      "cell_type": "code",
      "metadata": {
        "id": "pHl38BXltU36",
        "colab_type": "code",
        "colab": {}
      },
      "source": [
        "pred = model.predict_proba(test)[:, 1]"
      ],
      "execution_count": 0,
      "outputs": []
    },
    {
      "cell_type": "code",
      "metadata": {
        "id": "U5MOCwsBXRVk",
        "colab_type": "code",
        "outputId": "bb9d4087-18ea-4dac-e576-d92a0e2bc444",
        "colab": {
          "base_uri": "https://localhost:8080/",
          "height": 105
        }
      },
      "source": [
        "test.columns"
      ],
      "execution_count": 2050,
      "outputs": [
        {
          "output_type": "execute_result",
          "data": {
            "text/plain": [
              "Index(['Residential', 'Building_Painted', 'Settlement', 'Building Dimension',\n",
              "       'Building_Type', 'Date_of_Occupancy', 'NumberOfWindows', 'Geo_Code',\n",
              "       'Building_Age', 'duration_1st quarter', 'duration_3rd quarter',\n",
              "       'duration_a year', 'duration_half_year'],\n",
              "      dtype='object')"
            ]
          },
          "metadata": {
            "tags": []
          },
          "execution_count": 2050
        }
      ]
    },
    {
      "cell_type": "code",
      "metadata": {
        "id": "yiOVNsJjXUsc",
        "colab_type": "code",
        "outputId": "4d8dbfa7-7f0c-44e1-857a-5ca858bc9408",
        "colab": {
          "base_uri": "https://localhost:8080/",
          "height": 105
        }
      },
      "source": [
        "X.columns"
      ],
      "execution_count": 2051,
      "outputs": [
        {
          "output_type": "execute_result",
          "data": {
            "text/plain": [
              "Index(['Residential', 'Building_Painted', 'Settlement', 'Building Dimension',\n",
              "       'Building_Type', 'Date_of_Occupancy', 'NumberOfWindows', 'Geo_Code',\n",
              "       'Building_Age', 'duration_1st quarter', 'duration_3rd quarter',\n",
              "       'duration_a year', 'duration_half_year'],\n",
              "      dtype='object')"
            ]
          },
          "metadata": {
            "tags": []
          },
          "execution_count": 2051
        }
      ]
    },
    {
      "cell_type": "code",
      "metadata": {
        "id": "NKzLgrDeW5Y2",
        "colab_type": "code",
        "outputId": "73be4810-7d33-4725-938a-6f423190e454",
        "colab": {
          "base_uri": "https://localhost:8080/",
          "height": 265
        }
      },
      "source": [
        "test.isnull().sum()"
      ],
      "execution_count": 2052,
      "outputs": [
        {
          "output_type": "execute_result",
          "data": {
            "text/plain": [
              "Residential             0\n",
              "Building_Painted        0\n",
              "Settlement              0\n",
              "Building Dimension      0\n",
              "Building_Type           0\n",
              "Date_of_Occupancy       0\n",
              "NumberOfWindows         0\n",
              "Geo_Code                0\n",
              "Building_Age            0\n",
              "duration_1st quarter    0\n",
              "duration_3rd quarter    0\n",
              "duration_a year         0\n",
              "duration_half_year      0\n",
              "dtype: int64"
            ]
          },
          "metadata": {
            "tags": []
          },
          "execution_count": 2052
        }
      ]
    },
    {
      "cell_type": "code",
      "metadata": {
        "id": "OOHA78bAwSQC",
        "colab_type": "code",
        "outputId": "cba01982-6d89-4f76-ea85-adf4db75e08f",
        "colab": {
          "base_uri": "https://localhost:8080/",
          "height": 52
        }
      },
      "source": [
        "pred"
      ],
      "execution_count": 2053,
      "outputs": [
        {
          "output_type": "execute_result",
          "data": {
            "text/plain": [
              "array([0.14266208, 0.14150799, 0.10612558, ..., 0.19346653, 0.19575788,\n",
              "       0.18397893])"
            ]
          },
          "metadata": {
            "tags": []
          },
          "execution_count": 2053
        }
      ]
    },
    {
      "cell_type": "code",
      "metadata": {
        "id": "vTADeX7A8WTG",
        "colab_type": "code",
        "colab": {
          "base_uri": "https://localhost:8080/",
          "height": 141
        },
        "outputId": "3598a72a-6544-4050-be00-fbe8a763678e"
      },
      "source": [
        "from sklearn.tree import DecisionTreeClassifier\n",
        "clf = DecisionTreeClassifier()\n",
        "clf.fit(X_train, y_train)\n",
        "print('train Score: ', clf.score(X_train,y_train))\n",
        "print('Validate Data Score: ', clf.score(X_test,y_test))"
      ],
      "execution_count": 2054,
      "outputs": [
        {
          "output_type": "execute_result",
          "data": {
            "text/plain": [
              "DecisionTreeClassifier(ccp_alpha=0.0, class_weight=None, criterion='gini',\n",
              "                       max_depth=None, max_features=None, max_leaf_nodes=None,\n",
              "                       min_impurity_decrease=0.0, min_impurity_split=None,\n",
              "                       min_samples_leaf=1, min_samples_split=2,\n",
              "                       min_weight_fraction_leaf=0.0, presort='deprecated',\n",
              "                       random_state=None, splitter='best')"
            ]
          },
          "metadata": {
            "tags": []
          },
          "execution_count": 2054
        },
        {
          "output_type": "stream",
          "text": [
            "train Score:  0.9981866139136168\n",
            "Validate Data Score:  0.7021475256769374\n"
          ],
          "name": "stdout"
        }
      ]
    },
    {
      "cell_type": "code",
      "metadata": {
        "id": "Rr1ZrHnf8sR6",
        "colab_type": "code",
        "colab": {
          "base_uri": "https://localhost:8080/",
          "height": 34
        },
        "outputId": "7de6a2b3-8f60-4784-fd17-53f25097deca"
      },
      "source": [
        "prediction = clf.predict_proba(test)[:, 1]\n",
        "prediction.shape, test.shape"
      ],
      "execution_count": 2055,
      "outputs": [
        {
          "output_type": "execute_result",
          "data": {
            "text/plain": [
              "((3069,), (3069, 13))"
            ]
          },
          "metadata": {
            "tags": []
          },
          "execution_count": 2055
        }
      ]
    },
    {
      "cell_type": "code",
      "metadata": {
        "id": "YN5HZgrwyWwj",
        "colab_type": "code",
        "colab": {}
      },
      "source": [
        "x=pd.DataFrame({'Claim': pred})"
      ],
      "execution_count": 0,
      "outputs": []
    },
    {
      "cell_type": "code",
      "metadata": {
        "id": "srk0HzEl2aRH",
        "colab_type": "code",
        "colab": {}
      },
      "source": [
        "y=pd.DataFrame({'Customer Id':testid})"
      ],
      "execution_count": 0,
      "outputs": []
    },
    {
      "cell_type": "code",
      "metadata": {
        "id": "YSUCI-vF2t8X",
        "colab_type": "code",
        "outputId": "32965604-d0d8-461f-e03d-396625489dd8",
        "colab": {
          "base_uri": "https://localhost:8080/",
          "height": 197
        }
      },
      "source": [
        "submission = pd.concat([y,x], axis ='columns')\n",
        "submission.head()"
      ],
      "execution_count": 2058,
      "outputs": [
        {
          "output_type": "execute_result",
          "data": {
            "text/html": [
              "<div>\n",
              "<style scoped>\n",
              "    .dataframe tbody tr th:only-of-type {\n",
              "        vertical-align: middle;\n",
              "    }\n",
              "\n",
              "    .dataframe tbody tr th {\n",
              "        vertical-align: top;\n",
              "    }\n",
              "\n",
              "    .dataframe thead th {\n",
              "        text-align: right;\n",
              "    }\n",
              "</style>\n",
              "<table border=\"1\" class=\"dataframe\">\n",
              "  <thead>\n",
              "    <tr style=\"text-align: right;\">\n",
              "      <th></th>\n",
              "      <th>Customer Id</th>\n",
              "      <th>Claim</th>\n",
              "    </tr>\n",
              "  </thead>\n",
              "  <tbody>\n",
              "    <tr>\n",
              "      <th>0</th>\n",
              "      <td>H11920</td>\n",
              "      <td>0.142662</td>\n",
              "    </tr>\n",
              "    <tr>\n",
              "      <th>1</th>\n",
              "      <td>H11921</td>\n",
              "      <td>0.141508</td>\n",
              "    </tr>\n",
              "    <tr>\n",
              "      <th>2</th>\n",
              "      <td>H9805</td>\n",
              "      <td>0.106126</td>\n",
              "    </tr>\n",
              "    <tr>\n",
              "      <th>3</th>\n",
              "      <td>H7493</td>\n",
              "      <td>0.172902</td>\n",
              "    </tr>\n",
              "    <tr>\n",
              "      <th>4</th>\n",
              "      <td>H7494</td>\n",
              "      <td>0.173084</td>\n",
              "    </tr>\n",
              "  </tbody>\n",
              "</table>\n",
              "</div>"
            ],
            "text/plain": [
              "  Customer Id     Claim\n",
              "0      H11920  0.142662\n",
              "1      H11921  0.141508\n",
              "2       H9805  0.106126\n",
              "3       H7493  0.172902\n",
              "4       H7494  0.173084"
            ]
          },
          "metadata": {
            "tags": []
          },
          "execution_count": 2058
        }
      ]
    },
    {
      "cell_type": "code",
      "metadata": {
        "id": "7ZGWrbkev11j",
        "colab_type": "code",
        "colab": {}
      },
      "source": [
        "submission.to_csv('violette16.csv', index=False)"
      ],
      "execution_count": 0,
      "outputs": []
    },
    {
      "cell_type": "code",
      "metadata": {
        "id": "J_42fWB1tvgc",
        "colab_type": "code",
        "colab": {}
      },
      "source": [
        ""
      ],
      "execution_count": 0,
      "outputs": []
    }
  ]
}